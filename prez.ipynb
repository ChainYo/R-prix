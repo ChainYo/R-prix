{
 "metadata": {
  "language_info": {
   "codemirror_mode": {
    "name": "ipython",
    "version": 3
   },
   "file_extension": ".py",
   "mimetype": "text/x-python",
   "name": "python",
   "nbconvert_exporter": "python",
   "pygments_lexer": "ipython3",
   "version": 3
  },
  "orig_nbformat": 4
 },
 "nbformat": 4,
 "nbformat_minor": 2,
 "cells": [
  {
   "source": [
    "# Présentation Projet R + Shiny"
   ],
   "cell_type": "markdown",
   "metadata": {}
  },
  {
   "source": [
    "## 1. Le dataset\n",
    "\n",
    "Il s'agit d'un ensemble de données créées à partir de données imaginaires de prix des logements en milieu urbain - Paris.   \n",
    "Je recommande d'utiliser cet ensemble de données à des fins éducatives, pour la pratique et pour acquérir les connaissances nécessaires.    \n",
    "\n",
    "Tous les attributs sont des variables numériques et ils sont répertoriés ci-dessous :\n",
    "\n",
    "- squareMeters\n",
    "- numberOfRooms\n",
    "- hasYard\n",
    "- hasPool\n",
    "- floors - number of floors\n",
    "- cityCode - zip code\n",
    "- cityPartRange - the higher the range, the more exclusive the neighbourhood is\n",
    "- numPrevOwners - number of prevoious owners\n",
    "- made - year\n",
    "- isNewBuilt\n",
    "- hasStormProtector\n",
    "- basement - basement square meters\n",
    "- attic - attic square meteres\n",
    "- garage - garage size\n",
    "- hasStorageRoom\n",
    "- hasGuestRoom - number of guest rooms\n",
    "- price - predicted value"
   ],
   "cell_type": "markdown",
   "metadata": {}
  },
  {
   "source": [
    "## 2. Préparation des données\n",
    "\n",
    "- Matrice de confusion:    \n",
    "\n",
    "![matriceConfusion](data/matrice_confusion.png)\n",
    "\n",
    "On voit qu'il n'existe aucune corrélation entre le prix (notre target) et les autres paramètres en dehors de la surface de l'habitat (`squareMeters`).  \n",
    "Nous somme donc face à un problème de régression linéaire simple.\n",
    "\n",
    "\n",
    "- Indice de corrélation:\n",
    "\n",
    "![indiceCorrélation](data/corr.png)"
   ],
   "cell_type": "markdown",
   "metadata": {}
  },
  {
   "source": [
    "## 3. Création du modèle\n",
    "\n",
    "- Création du modèle de régression linéaire simple:\n",
    "\n",
    "![creaModel](data/modelR.png)\n",
    "\n",
    "- Propriétés et métriques du modèle:\n",
    "\n",
    "![summaryModel](data/model_summary.png)\n",
    "\n",
    "- Réprésentation graphique de la régression linéaire:\n",
    "\n",
    "![plotModel](data/plot_model.png)"
   ],
   "cell_type": "markdown",
   "metadata": {}
  },
  {
   "source": [
    "## 4. Interface Shiny\n",
    "\n",
    "Le code peut être trouvé dans le fichier `app.R`\n",
    "\n",
    "![shinyApp](data/app_shiny.png)"
   ],
   "cell_type": "markdown",
   "metadata": {}
  },
  {
   "source": [
    "## 5. Essayer l'interface\n",
    "\n",
    "- pré-requis:\n",
    "    - R \n",
    "    - R Studio\n",
    "\n",
    "1. Ouvrez le fichier `app.R` dans R Studio.\n",
    "2. Effectuez la commande suivante dans la console R: `install.packages(\"shiny\")`\n",
    "3. Lancez l'application via le bouton `Run App` en haut à droite du fichier ouvert dans votre interface.\n",
    "\n",
    "Voilà ce que vous devriez obtenir:\n",
    "\n",
    "![shinyAppInterface](data/shiny_app_interface.png)\n",
    "\n",
    "Il vous suffit de bouger le curseur pour voir apparaître une prédiction."
   ],
   "cell_type": "markdown",
   "metadata": {}
  }
 ]
}